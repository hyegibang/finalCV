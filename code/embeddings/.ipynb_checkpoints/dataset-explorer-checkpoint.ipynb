{
 "cells": [
  {
   "cell_type": "code",
   "execution_count": 1,
   "metadata": {},
   "outputs": [],
   "source": [
    "import requests\n",
    "import pandas as pd\n",
    "import matplotlib.pyplot as plt\n",
    "import numpy as np "
   ]
  },
  {
   "cell_type": "code",
   "execution_count": 3,
   "metadata": {},
   "outputs": [
    {
     "data": {
      "text/plain": [
       "array([[-0.00818 , -0.04932 , -0.0381  , ...,  0.002457, -0.03467 ,\n",
       "        -0.02283 ],\n",
       "       [ 0.03223 ,  0.01746 , -0.01428 , ...,  0.0199  , -0.01685 ,\n",
       "         0.02686 ],\n",
       "       [ 0.0349  , -0.02197 , -0.01294 , ...,  0.02649 ,  0.02124 ,\n",
       "        -0.008484],\n",
       "       ...,\n",
       "       [-0.03394 ,  0.01361 , -0.04688 , ..., -0.006927,  0.03442 ,\n",
       "        -0.00958 ],\n",
       "       [-0.012695, -0.01074 ,  0.002045, ...,  0.00952 , -0.0635  ,\n",
       "         0.01007 ],\n",
       "       [-0.0299  ,  0.00842 ,  0.02026 , ..., -0.03027 ,  0.01349 ,\n",
       "         0.0498  ]], dtype=float16)"
      ]
     },
     "execution_count": 3,
     "metadata": {},
     "output_type": "execute_result"
    }
   ],
   "source": [
    "embd = np.load(\"img_emb_0.npy\")\n",
    "embd"
   ]
  },
  {
   "cell_type": "code",
   "execution_count": 7,
   "metadata": {},
   "outputs": [
    {
     "data": {
      "text/plain": [
       "(1024,)"
      ]
     },
     "execution_count": 7,
     "metadata": {},
     "output_type": "execute_result"
    }
   ],
   "source": [
    "embd[1].shape"
   ]
  },
  {
   "cell_type": "code",
   "execution_count": null,
   "metadata": {},
   "outputs": [],
   "source": []
  }
 ],
 "metadata": {
  "kernelspec": {
   "display_name": "Python 3 (ipykernel)",
   "language": "python",
   "name": "python3"
  },
  "language_info": {
   "codemirror_mode": {
    "name": "ipython",
    "version": 3
   },
   "file_extension": ".py",
   "mimetype": "text/x-python",
   "name": "python",
   "nbconvert_exporter": "python",
   "pygments_lexer": "ipython3",
   "version": "3.8.13"
  },
  "vscode": {
   "interpreter": {
    "hash": "0238c7ab77f5f14607e9e626cf516278970912a05db667e7e99b70e2ee944580"
   }
  }
 },
 "nbformat": 4,
 "nbformat_minor": 2
}
