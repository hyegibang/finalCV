{
 "cells": [
  {
   "cell_type": "code",
   "execution_count": 1,
   "metadata": {},
   "outputs": [],
   "source": [
    "import requests\n",
    "import pandas as pd\n",
    "import matplotlib.pyplot as plt\n",
    "import numpy as np \n",
    "from model import load_model, preprocess\n",
    "import os\n",
    "import torch"
   ]
  },
  {
   "cell_type": "code",
   "execution_count": 14,
   "metadata": {},
   "outputs": [
    {
     "data": {
      "text/plain": [
       "array([[-0.00818 , -0.04932 , -0.0381  , ...,  0.002457, -0.03467 ,\n",
       "        -0.02283 ],\n",
       "       [ 0.03223 ,  0.01746 , -0.01428 , ...,  0.0199  , -0.01685 ,\n",
       "         0.02686 ],\n",
       "       [ 0.0349  , -0.02197 , -0.01294 , ...,  0.02649 ,  0.02124 ,\n",
       "        -0.008484],\n",
       "       ...,\n",
       "       [-0.03394 ,  0.01361 , -0.04688 , ..., -0.006927,  0.03442 ,\n",
       "        -0.00958 ],\n",
       "       [-0.012695, -0.01074 ,  0.002045, ...,  0.00952 , -0.0635  ,\n",
       "         0.01007 ],\n",
       "       [-0.0299  ,  0.00842 ,  0.02026 , ..., -0.03027 ,  0.01349 ,\n",
       "         0.0498  ]], dtype=float16)"
      ]
     },
     "execution_count": 14,
     "metadata": {},
     "output_type": "execute_result"
    }
   ],
   "source": [
    "embd_full = np.load(\"embeddings/img_emb_0.npy\")\n",
    "embd_full "
   ]
  },
  {
   "cell_type": "code",
   "execution_count": 23,
   "metadata": {},
   "outputs": [
    {
     "ename": "ValueError",
     "evalue": "invalid literal for int() with base 10: ''",
     "output_type": "error",
     "traceback": [
      "\u001b[0;31m---------------------------------------------------------------------------\u001b[0m",
      "\u001b[0;31mValueError\u001b[0m                                Traceback (most recent call last)",
      "Input \u001b[0;32mIn [23]\u001b[0m, in \u001b[0;36m<cell line: 2>\u001b[0;34m()\u001b[0m\n\u001b[1;32m      1\u001b[0m image_dir \u001b[38;5;241m=\u001b[39m os\u001b[38;5;241m.\u001b[39mlistdir(\u001b[38;5;124m\"\u001b[39m\u001b[38;5;124mimages\u001b[39m\u001b[38;5;124m\"\u001b[39m)\n\u001b[0;32m----> 2\u001b[0m img_index \u001b[38;5;241m=\u001b[39m \u001b[38;5;28msorted\u001b[39m(\u001b[38;5;28;43mlist\u001b[39;49m\u001b[43m(\u001b[49m\u001b[38;5;28;43mmap\u001b[39;49m\u001b[43m(\u001b[49m\u001b[38;5;28;43;01mlambda\u001b[39;49;00m\u001b[43m \u001b[49m\u001b[43msub\u001b[49m\u001b[43m:\u001b[49m\u001b[38;5;28;43mint\u001b[39;49m\u001b[43m(\u001b[49m\u001b[38;5;124;43m'\u001b[39;49m\u001b[38;5;124;43m'\u001b[39;49m\u001b[38;5;241;43m.\u001b[39;49m\u001b[43mjoin\u001b[49m\u001b[43m(\u001b[49m\n\u001b[1;32m      3\u001b[0m \u001b[43m      \u001b[49m\u001b[43m[\u001b[49m\u001b[43mele\u001b[49m\u001b[43m \u001b[49m\u001b[38;5;28;43;01mfor\u001b[39;49;00m\u001b[43m \u001b[49m\u001b[43mele\u001b[49m\u001b[43m \u001b[49m\u001b[38;5;129;43;01min\u001b[39;49;00m\u001b[43m \u001b[49m\u001b[43msub\u001b[49m\u001b[43m \u001b[49m\u001b[38;5;28;43;01mif\u001b[39;49;00m\u001b[43m \u001b[49m\u001b[43mele\u001b[49m\u001b[38;5;241;43m.\u001b[39;49m\u001b[43misnumeric\u001b[49m\u001b[43m(\u001b[49m\u001b[43m)\u001b[49m\u001b[43m]\u001b[49m\u001b[43m)\u001b[49m\u001b[43m)\u001b[49m\u001b[43m,\u001b[49m\u001b[43m \u001b[49m\u001b[43mimage_dir\u001b[49m\u001b[43m)\u001b[49m\u001b[43m)\u001b[49m)\n",
      "Input \u001b[0;32mIn [23]\u001b[0m, in \u001b[0;36m<lambda>\u001b[0;34m(sub)\u001b[0m\n\u001b[1;32m      1\u001b[0m image_dir \u001b[38;5;241m=\u001b[39m os\u001b[38;5;241m.\u001b[39mlistdir(\u001b[38;5;124m\"\u001b[39m\u001b[38;5;124mimages\u001b[39m\u001b[38;5;124m\"\u001b[39m)\n\u001b[0;32m----> 2\u001b[0m img_index \u001b[38;5;241m=\u001b[39m \u001b[38;5;28msorted\u001b[39m(\u001b[38;5;28mlist\u001b[39m(\u001b[38;5;28mmap\u001b[39m(\u001b[38;5;28;01mlambda\u001b[39;00m sub:\u001b[38;5;28;43mint\u001b[39;49m\u001b[43m(\u001b[49m\u001b[38;5;124;43m'\u001b[39;49m\u001b[38;5;124;43m'\u001b[39;49m\u001b[38;5;241;43m.\u001b[39;49m\u001b[43mjoin\u001b[49m\u001b[43m(\u001b[49m\n\u001b[1;32m      3\u001b[0m \u001b[43m      \u001b[49m\u001b[43m[\u001b[49m\u001b[43mele\u001b[49m\u001b[43m \u001b[49m\u001b[38;5;28;43;01mfor\u001b[39;49;00m\u001b[43m \u001b[49m\u001b[43mele\u001b[49m\u001b[43m \u001b[49m\u001b[38;5;129;43;01min\u001b[39;49;00m\u001b[43m \u001b[49m\u001b[43msub\u001b[49m\u001b[43m \u001b[49m\u001b[38;5;28;43;01mif\u001b[39;49;00m\u001b[43m \u001b[49m\u001b[43mele\u001b[49m\u001b[38;5;241;43m.\u001b[39;49m\u001b[43misnumeric\u001b[49m\u001b[43m(\u001b[49m\u001b[43m)\u001b[49m\u001b[43m]\u001b[49m\u001b[43m)\u001b[49m\u001b[43m)\u001b[49m, image_dir)))\n",
      "\u001b[0;31mValueError\u001b[0m: invalid literal for int() with base 10: ''"
     ]
    }
   ],
   "source": [
    "image_dir = os.listdir(\"images\")\n",
    "img_index = sorted(list(map(lambda sub:int(''.join(\n",
    "      [ele for ele in sub if ele.isnumeric()])), image_dir)))"
   ]
  },
  {
   "cell_type": "code",
   "execution_count": 18,
   "metadata": {},
   "outputs": [
    {
     "name": "stdout",
     "output_type": "stream",
     "text": [
      "(36125, 1024)\n",
      "36125\n"
     ]
    }
   ],
   "source": [
    "print(embd_full.shape)\n",
    "print(len(img_index))"
   ]
  },
  {
   "cell_type": "code",
   "execution_count": 19,
   "metadata": {},
   "outputs": [
    {
     "data": {
      "text/plain": [
       "numpy.ndarray"
      ]
     },
     "execution_count": 19,
     "metadata": {},
     "output_type": "execute_result"
    }
   ],
   "source": [
    "indv_embd_ex = embd_full[0]\n",
    "type(indv_embd_ex)"
   ]
  },
  {
   "cell_type": "code",
   "execution_count": 20,
   "metadata": {},
   "outputs": [],
   "source": [
    "from sklearn import cluster\n",
    "n_clusters=500\n",
    "\n",
    "embd_data = pd.DataFrame(embd_full)\n",
    "clusters = cluster.KMeans(n_clusters).fit(embd_data)\n",
    "cluster_map = pd.DataFrame()\n",
    "# cluster_map['data_index'] = [img_index[i] for i in embd_data.index.values]\n",
    "cluster_map['data_index'] = embd_data.index.values\n",
    "cluster_map['label'] = clusters.labels_"
   ]
  },
  {
   "cell_type": "code",
   "execution_count": 213,
   "metadata": {},
   "outputs": [],
   "source": [
    "# cluster_map.to_pickle(\"./full_emd.pkl\")\n",
    "# unpickled_df = pd.read_pickle(\"./full_emd.pkl\")   "
   ]
  },
  {
   "cell_type": "code",
   "execution_count": 2,
   "metadata": {},
   "outputs": [
    {
     "name": "stderr",
     "output_type": "stream",
     "text": [
      "`text_config_dict` is provided which will be used to initialize `CLIPTextConfig`. The value `text_config[\"id2label\"]` will be overriden.\n",
      "2023-04-19 09:18:50.710542: I tensorflow/core/platform/cpu_feature_guard.cc:193] This TensorFlow binary is optimized with oneAPI Deep Neural Network Library (oneDNN) to use the following CPU instructions in performance-critical operations:  AVX2 FMA\n",
      "To enable them in other operations, rebuild TensorFlow with the appropriate compiler flags.\n"
     ]
    }
   ],
   "source": [
    "import gradio as gr\n",
    "import torch\n",
    "from model import preprocess, load_model\n",
    "from transformers import CLIPModel, CLIPProcessor\n",
    "\n",
    "model = load_model(\"models/aesthetics_scorer_rating_openclip_vit_h_14.pth\")\n",
    "MODEL = \"laion/CLIP-ViT-H-14-laion2B-s32B-b79K\"\n",
    "DEVICE = 'cuda' if torch.cuda.is_available() else 'cpu'\n",
    "\n",
    "model = CLIPModel.from_pretrained(MODEL)\n",
    "vision_model = model.vision_model\n",
    "vision_model.to(DEVICE)\n",
    "del model\n",
    "clip_processor = CLIPProcessor.from_pretrained(MODEL)\n",
    "\n",
    "rating_model = load_model(\"models/aesthetics_scorer_rating_openclip_vit_h_14.pth\").to(DEVICE)\n",
    "artifacts_model = load_model(\"models/aesthetics_scorer_artifacts_openclip_vit_h_14.pth\").to(DEVICE)\n",
    "\n",
    "def predict(img):\n",
    "    inputs = clip_processor(images=img, return_tensors=\"pt\").to(DEVICE)\n",
    "    with torch.no_grad():\n",
    "        vision_output = vision_model(**inputs)\n",
    "    pooled_output = vision_output.pooler_output\n",
    "    embedding = preprocess(pooled_output)\n",
    "    with torch.no_grad():\n",
    "        rating = rating_model(embedding)\n",
    "        artifact = artifacts_model(embedding)\n",
    "    return rating.detach().cpu().item(), artifact.detach().cpu().item()\n"
   ]
  },
  {
   "cell_type": "code",
   "execution_count": 23,
   "metadata": {},
   "outputs": [],
   "source": [
    "cluster_pd = pd.DataFrame(columns = [\"label\",\"img_idx\", \"center\", \"rating_score\", \"aest_score\"])\n",
    "cluster_pd[\"label\"] = list(range(n_clusters))\n",
    "cluster_pd[\"img_idx\"] = [np.array(cluster_map[cluster_map['label'] == x][\"data_index\"]) for x in range(n_clusters)]\n",
    "cluster_pd[\"center\"] = list(clusters.cluster_centers_)                                          "
   ]
  },
  {
   "cell_type": "code",
   "execution_count": 25,
   "metadata": {},
   "outputs": [
    {
     "data": {
      "text/html": [
       "<div>\n",
       "<style scoped>\n",
       "    .dataframe tbody tr th:only-of-type {\n",
       "        vertical-align: middle;\n",
       "    }\n",
       "\n",
       "    .dataframe tbody tr th {\n",
       "        vertical-align: top;\n",
       "    }\n",
       "\n",
       "    .dataframe thead th {\n",
       "        text-align: right;\n",
       "    }\n",
       "</style>\n",
       "<table border=\"1\" class=\"dataframe\">\n",
       "  <thead>\n",
       "    <tr style=\"text-align: right;\">\n",
       "      <th></th>\n",
       "      <th>label</th>\n",
       "      <th>img_idx</th>\n",
       "      <th>center</th>\n",
       "      <th>rating_score</th>\n",
       "      <th>aest_score</th>\n",
       "    </tr>\n",
       "  </thead>\n",
       "  <tbody>\n",
       "    <tr>\n",
       "      <th>0</th>\n",
       "      <td>0</td>\n",
       "      <td>[1717, 4165, 5567, 6884, 8560, 8817, 9069, 124...</td>\n",
       "      <td>[-0.0069408416748046875, -0.001300811767578123...</td>\n",
       "      <td>NaN</td>\n",
       "      <td>NaN</td>\n",
       "    </tr>\n",
       "    <tr>\n",
       "      <th>1</th>\n",
       "      <td>1</td>\n",
       "      <td>[92, 432, 679, 2719, 5136, 6075, 6146, 6577, 7...</td>\n",
       "      <td>[-0.0007424965882912677, 0.012880912193885222,...</td>\n",
       "      <td>NaN</td>\n",
       "      <td>NaN</td>\n",
       "    </tr>\n",
       "    <tr>\n",
       "      <th>2</th>\n",
       "      <td>2</td>\n",
       "      <td>[109, 144, 478, 564, 585, 1908, 2095, 2264, 25...</td>\n",
       "      <td>[0.006140124413274948, -0.013523963189894152, ...</td>\n",
       "      <td>NaN</td>\n",
       "      <td>NaN</td>\n",
       "    </tr>\n",
       "    <tr>\n",
       "      <th>3</th>\n",
       "      <td>3</td>\n",
       "      <td>[162, 1659, 1920, 2168, 3978, 4128, 4674, 5261...</td>\n",
       "      <td>[0.001089027949741906, 0.002168655395507814, 0...</td>\n",
       "      <td>NaN</td>\n",
       "      <td>NaN</td>\n",
       "    </tr>\n",
       "    <tr>\n",
       "      <th>4</th>\n",
       "      <td>4</td>\n",
       "      <td>[21, 1127, 1260, 1986, 2041, 2993, 4338, 4720,...</td>\n",
       "      <td>[-0.016064270682956863, 0.007230122884114586, ...</td>\n",
       "      <td>NaN</td>\n",
       "      <td>NaN</td>\n",
       "    </tr>\n",
       "    <tr>\n",
       "      <th>...</th>\n",
       "      <td>...</td>\n",
       "      <td>...</td>\n",
       "      <td>...</td>\n",
       "      <td>...</td>\n",
       "      <td>...</td>\n",
       "    </tr>\n",
       "    <tr>\n",
       "      <th>495</th>\n",
       "      <td>495</td>\n",
       "      <td>[85, 342, 666, 673, 1063, 1256, 1466, 1616, 20...</td>\n",
       "      <td>[-0.0006895798903245208, -0.005415633702889466...</td>\n",
       "      <td>NaN</td>\n",
       "      <td>NaN</td>\n",
       "    </tr>\n",
       "    <tr>\n",
       "      <th>496</th>\n",
       "      <td>496</td>\n",
       "      <td>[618, 644, 2624, 2842, 3149, 3246, 3272, 3366,...</td>\n",
       "      <td>[0.007192054352202972, 0.006923328746448866, 0...</td>\n",
       "      <td>NaN</td>\n",
       "      <td>NaN</td>\n",
       "    </tr>\n",
       "    <tr>\n",
       "      <th>497</th>\n",
       "      <td>497</td>\n",
       "      <td>[413, 5600, 8727, 9223, 11153, 13220, 15624, 1...</td>\n",
       "      <td>[0.011936823527018223, 0.00568249821662903, 0....</td>\n",
       "      <td>NaN</td>\n",
       "      <td>NaN</td>\n",
       "    </tr>\n",
       "    <tr>\n",
       "      <th>498</th>\n",
       "      <td>498</td>\n",
       "      <td>[2118, 3268, 3347, 3870, 4220, 4274, 6303, 704...</td>\n",
       "      <td>[-0.0007574898856026789, -0.00705329739317602,...</td>\n",
       "      <td>NaN</td>\n",
       "      <td>NaN</td>\n",
       "    </tr>\n",
       "    <tr>\n",
       "      <th>499</th>\n",
       "      <td>499</td>\n",
       "      <td>[266, 351, 596, 946, 1593, 1943, 1949, 3321, 4...</td>\n",
       "      <td>[-0.0020805521214261966, 0.008404670877659575,...</td>\n",
       "      <td>NaN</td>\n",
       "      <td>NaN</td>\n",
       "    </tr>\n",
       "  </tbody>\n",
       "</table>\n",
       "<p>500 rows × 5 columns</p>\n",
       "</div>"
      ],
      "text/plain": [
       "     label                                            img_idx  \\\n",
       "0        0  [1717, 4165, 5567, 6884, 8560, 8817, 9069, 124...   \n",
       "1        1  [92, 432, 679, 2719, 5136, 6075, 6146, 6577, 7...   \n",
       "2        2  [109, 144, 478, 564, 585, 1908, 2095, 2264, 25...   \n",
       "3        3  [162, 1659, 1920, 2168, 3978, 4128, 4674, 5261...   \n",
       "4        4  [21, 1127, 1260, 1986, 2041, 2993, 4338, 4720,...   \n",
       "..     ...                                                ...   \n",
       "495    495  [85, 342, 666, 673, 1063, 1256, 1466, 1616, 20...   \n",
       "496    496  [618, 644, 2624, 2842, 3149, 3246, 3272, 3366,...   \n",
       "497    497  [413, 5600, 8727, 9223, 11153, 13220, 15624, 1...   \n",
       "498    498  [2118, 3268, 3347, 3870, 4220, 4274, 6303, 704...   \n",
       "499    499  [266, 351, 596, 946, 1593, 1943, 1949, 3321, 4...   \n",
       "\n",
       "                                                center rating_score aest_score  \n",
       "0    [-0.0069408416748046875, -0.001300811767578123...          NaN        NaN  \n",
       "1    [-0.0007424965882912677, 0.012880912193885222,...          NaN        NaN  \n",
       "2    [0.006140124413274948, -0.013523963189894152, ...          NaN        NaN  \n",
       "3    [0.001089027949741906, 0.002168655395507814, 0...          NaN        NaN  \n",
       "4    [-0.016064270682956863, 0.007230122884114586, ...          NaN        NaN  \n",
       "..                                                 ...          ...        ...  \n",
       "495  [-0.0006895798903245208, -0.005415633702889466...          NaN        NaN  \n",
       "496  [0.007192054352202972, 0.006923328746448866, 0...          NaN        NaN  \n",
       "497  [0.011936823527018223, 0.00568249821662903, 0....          NaN        NaN  \n",
       "498  [-0.0007574898856026789, -0.00705329739317602,...          NaN        NaN  \n",
       "499  [-0.0020805521214261966, 0.008404670877659575,...          NaN        NaN  \n",
       "\n",
       "[500 rows x 5 columns]"
      ]
     },
     "execution_count": 25,
     "metadata": {},
     "output_type": "execute_result"
    }
   ],
   "source": [
    "cluster_pd"
   ]
  },
  {
   "cell_type": "code",
   "execution_count": 9,
   "metadata": {
    "scrolled": true
   },
   "outputs": [
    {
     "data": {
      "text/html": [
       "<div>\n",
       "<style scoped>\n",
       "    .dataframe tbody tr th:only-of-type {\n",
       "        vertical-align: middle;\n",
       "    }\n",
       "\n",
       "    .dataframe tbody tr th {\n",
       "        vertical-align: top;\n",
       "    }\n",
       "\n",
       "    .dataframe thead th {\n",
       "        text-align: right;\n",
       "    }\n",
       "</style>\n",
       "<table border=\"1\" class=\"dataframe\">\n",
       "  <thead>\n",
       "    <tr style=\"text-align: right;\">\n",
       "      <th></th>\n",
       "      <th>label</th>\n",
       "      <th>img_idx</th>\n",
       "      <th>center</th>\n",
       "      <th>rating_score</th>\n",
       "      <th>aest_score</th>\n",
       "    </tr>\n",
       "  </thead>\n",
       "  <tbody>\n",
       "    <tr>\n",
       "      <th>0</th>\n",
       "      <td>0</td>\n",
       "      <td>[1717, 4165, 5567, 6884, 8560, 8817, 9069, 124...</td>\n",
       "      <td>[-0.0069408416748046875, -0.001300811767578123...</td>\n",
       "      <td>4.083333</td>\n",
       "      <td>2.208333</td>\n",
       "    </tr>\n",
       "    <tr>\n",
       "      <th>1</th>\n",
       "      <td>1</td>\n",
       "      <td>[92, 432, 679, 2719, 5136, 6075, 6146, 6577, 7...</td>\n",
       "      <td>[-0.0007424965882912677, 0.012880912193885222,...</td>\n",
       "      <td>3.987179</td>\n",
       "      <td>2.538462</td>\n",
       "    </tr>\n",
       "    <tr>\n",
       "      <th>2</th>\n",
       "      <td>2</td>\n",
       "      <td>[109, 144, 478, 564, 585, 1908, 2095, 2264, 25...</td>\n",
       "      <td>[0.006140124413274948, -0.013523963189894152, ...</td>\n",
       "      <td>NaN</td>\n",
       "      <td>NaN</td>\n",
       "    </tr>\n",
       "    <tr>\n",
       "      <th>3</th>\n",
       "      <td>3</td>\n",
       "      <td>[162, 1659, 1920, 2168, 3978, 4128, 4674, 5261...</td>\n",
       "      <td>[0.001089027949741906, 0.002168655395507814, 0...</td>\n",
       "      <td>NaN</td>\n",
       "      <td>NaN</td>\n",
       "    </tr>\n",
       "    <tr>\n",
       "      <th>4</th>\n",
       "      <td>4</td>\n",
       "      <td>[21, 1127, 1260, 1986, 2041, 2993, 4338, 4720,...</td>\n",
       "      <td>[-0.016064270682956863, 0.007230122884114586, ...</td>\n",
       "      <td>NaN</td>\n",
       "      <td>NaN</td>\n",
       "    </tr>\n",
       "    <tr>\n",
       "      <th>...</th>\n",
       "      <td>...</td>\n",
       "      <td>...</td>\n",
       "      <td>...</td>\n",
       "      <td>...</td>\n",
       "      <td>...</td>\n",
       "    </tr>\n",
       "    <tr>\n",
       "      <th>495</th>\n",
       "      <td>495</td>\n",
       "      <td>[85, 342, 666, 673, 1063, 1256, 1466, 1616, 20...</td>\n",
       "      <td>[-0.0006895798903245208, -0.005415633702889466...</td>\n",
       "      <td>NaN</td>\n",
       "      <td>NaN</td>\n",
       "    </tr>\n",
       "    <tr>\n",
       "      <th>496</th>\n",
       "      <td>496</td>\n",
       "      <td>[618, 644, 2624, 2842, 3149, 3246, 3272, 3366,...</td>\n",
       "      <td>[0.007192054352202972, 0.006923328746448866, 0...</td>\n",
       "      <td>NaN</td>\n",
       "      <td>NaN</td>\n",
       "    </tr>\n",
       "    <tr>\n",
       "      <th>497</th>\n",
       "      <td>497</td>\n",
       "      <td>[413, 5600, 8727, 9223, 11153, 13220, 15624, 1...</td>\n",
       "      <td>[0.011936823527018223, 0.00568249821662903, 0....</td>\n",
       "      <td>NaN</td>\n",
       "      <td>NaN</td>\n",
       "    </tr>\n",
       "    <tr>\n",
       "      <th>498</th>\n",
       "      <td>498</td>\n",
       "      <td>[2118, 3268, 3347, 3870, 4220, 4274, 6303, 704...</td>\n",
       "      <td>[-0.0007574898856026789, -0.00705329739317602,...</td>\n",
       "      <td>NaN</td>\n",
       "      <td>NaN</td>\n",
       "    </tr>\n",
       "    <tr>\n",
       "      <th>499</th>\n",
       "      <td>499</td>\n",
       "      <td>[266, 351, 596, 946, 1593, 1943, 1949, 3321, 4...</td>\n",
       "      <td>[-0.0020805521214261966, 0.008404670877659575,...</td>\n",
       "      <td>NaN</td>\n",
       "      <td>NaN</td>\n",
       "    </tr>\n",
       "  </tbody>\n",
       "</table>\n",
       "<p>500 rows × 5 columns</p>\n",
       "</div>"
      ],
      "text/plain": [
       "     label                                            img_idx  \\\n",
       "0        0  [1717, 4165, 5567, 6884, 8560, 8817, 9069, 124...   \n",
       "1        1  [92, 432, 679, 2719, 5136, 6075, 6146, 6577, 7...   \n",
       "2        2  [109, 144, 478, 564, 585, 1908, 2095, 2264, 25...   \n",
       "3        3  [162, 1659, 1920, 2168, 3978, 4128, 4674, 5261...   \n",
       "4        4  [21, 1127, 1260, 1986, 2041, 2993, 4338, 4720,...   \n",
       "..     ...                                                ...   \n",
       "495    495  [85, 342, 666, 673, 1063, 1256, 1466, 1616, 20...   \n",
       "496    496  [618, 644, 2624, 2842, 3149, 3246, 3272, 3366,...   \n",
       "497    497  [413, 5600, 8727, 9223, 11153, 13220, 15624, 1...   \n",
       "498    498  [2118, 3268, 3347, 3870, 4220, 4274, 6303, 704...   \n",
       "499    499  [266, 351, 596, 946, 1593, 1943, 1949, 3321, 4...   \n",
       "\n",
       "                                                center rating_score aest_score  \n",
       "0    [-0.0069408416748046875, -0.001300811767578123...     4.083333   2.208333  \n",
       "1    [-0.0007424965882912677, 0.012880912193885222,...     3.987179   2.538462  \n",
       "2    [0.006140124413274948, -0.013523963189894152, ...          NaN        NaN  \n",
       "3    [0.001089027949741906, 0.002168655395507814, 0...          NaN        NaN  \n",
       "4    [-0.016064270682956863, 0.007230122884114586, ...          NaN        NaN  \n",
       "..                                                 ...          ...        ...  \n",
       "495  [-0.0006895798903245208, -0.005415633702889466...          NaN        NaN  \n",
       "496  [0.007192054352202972, 0.006923328746448866, 0...          NaN        NaN  \n",
       "497  [0.011936823527018223, 0.00568249821662903, 0....          NaN        NaN  \n",
       "498  [-0.0007574898856026789, -0.00705329739317602,...          NaN        NaN  \n",
       "499  [-0.0020805521214261966, 0.008404670877659575,...          NaN        NaN  \n",
       "\n",
       "[500 rows x 5 columns]"
      ]
     },
     "execution_count": 9,
     "metadata": {},
     "output_type": "execute_result"
    }
   ],
   "source": [
    "curr_embd = 1\n",
    "cluster_pd_pickle = pd.read_pickle(\"./full_emd_score\" + str(curr_embd) + \".pkl\")   \n",
    "cluster_pd_pickle"
   ]
  },
  {
   "cell_type": "code",
   "execution_count": 8,
   "metadata": {},
   "outputs": [
    {
     "name": "stdout",
     "output_type": "stream",
     "text": [
      "current cluster: 1\n",
      "78\n",
      "current cluster: 2\n",
      "62\n"
     ]
    },
    {
     "ename": "KeyboardInterrupt",
     "evalue": "",
     "output_type": "error",
     "traceback": [
      "\u001b[0;31m---------------------------------------------------------------------------\u001b[0m",
      "\u001b[0;31mKeyboardInterrupt\u001b[0m                         Traceback (most recent call last)",
      "Input \u001b[0;32mIn [8]\u001b[0m, in \u001b[0;36m<cell line: 2>\u001b[0;34m()\u001b[0m\n\u001b[1;32m      8\u001b[0m \u001b[38;5;28;01mfor\u001b[39;00m curr_img_idx \u001b[38;5;129;01min\u001b[39;00m curr_clus_img_list: \n\u001b[1;32m      9\u001b[0m     img_path \u001b[38;5;241m=\u001b[39m \u001b[38;5;124m\"\u001b[39m\u001b[38;5;124mimages/\u001b[39m\u001b[38;5;124m\"\u001b[39m \u001b[38;5;241m+\u001b[39m image_dir[curr_img_idx]\n\u001b[0;32m---> 10\u001b[0m     clus_pred \u001b[38;5;241m=\u001b[39m \u001b[43mpredict\u001b[49m\u001b[43m(\u001b[49m\u001b[43mplt\u001b[49m\u001b[38;5;241;43m.\u001b[39;49m\u001b[43mimread\u001b[49m\u001b[43m(\u001b[49m\u001b[43mimg_path\u001b[49m\u001b[43m)\u001b[49m\u001b[43m)\u001b[49m\n\u001b[1;32m     11\u001b[0m     clus_rating_score \u001b[38;5;241m+\u001b[39m\u001b[38;5;241m=\u001b[39m \u001b[38;5;28mint\u001b[39m(clus_pred[\u001b[38;5;241m0\u001b[39m])\n\u001b[1;32m     12\u001b[0m     clus_artif_score \u001b[38;5;241m+\u001b[39m\u001b[38;5;241m=\u001b[39m \u001b[38;5;28mint\u001b[39m(clus_pred[\u001b[38;5;241m1\u001b[39m])\n",
      "Input \u001b[0;32mIn [2]\u001b[0m, in \u001b[0;36mpredict\u001b[0;34m(img)\u001b[0m\n\u001b[1;32m     20\u001b[0m inputs \u001b[38;5;241m=\u001b[39m clip_processor(images\u001b[38;5;241m=\u001b[39mimg, return_tensors\u001b[38;5;241m=\u001b[39m\u001b[38;5;124m\"\u001b[39m\u001b[38;5;124mpt\u001b[39m\u001b[38;5;124m\"\u001b[39m)\u001b[38;5;241m.\u001b[39mto(DEVICE)\n\u001b[1;32m     21\u001b[0m \u001b[38;5;28;01mwith\u001b[39;00m torch\u001b[38;5;241m.\u001b[39mno_grad():\n\u001b[0;32m---> 22\u001b[0m     vision_output \u001b[38;5;241m=\u001b[39m \u001b[43mvision_model\u001b[49m\u001b[43m(\u001b[49m\u001b[38;5;241;43m*\u001b[39;49m\u001b[38;5;241;43m*\u001b[39;49m\u001b[43minputs\u001b[49m\u001b[43m)\u001b[49m\n\u001b[1;32m     23\u001b[0m pooled_output \u001b[38;5;241m=\u001b[39m vision_output\u001b[38;5;241m.\u001b[39mpooler_output\n\u001b[1;32m     24\u001b[0m embedding \u001b[38;5;241m=\u001b[39m preprocess(pooled_output)\n",
      "File \u001b[0;32m~/opt/miniconda3/lib/python3.8/site-packages/torch/nn/modules/module.py:1501\u001b[0m, in \u001b[0;36mModule._call_impl\u001b[0;34m(self, *args, **kwargs)\u001b[0m\n\u001b[1;32m   1496\u001b[0m \u001b[38;5;66;03m# If we don't have any hooks, we want to skip the rest of the logic in\u001b[39;00m\n\u001b[1;32m   1497\u001b[0m \u001b[38;5;66;03m# this function, and just call forward.\u001b[39;00m\n\u001b[1;32m   1498\u001b[0m \u001b[38;5;28;01mif\u001b[39;00m \u001b[38;5;129;01mnot\u001b[39;00m (\u001b[38;5;28mself\u001b[39m\u001b[38;5;241m.\u001b[39m_backward_hooks \u001b[38;5;129;01mor\u001b[39;00m \u001b[38;5;28mself\u001b[39m\u001b[38;5;241m.\u001b[39m_backward_pre_hooks \u001b[38;5;129;01mor\u001b[39;00m \u001b[38;5;28mself\u001b[39m\u001b[38;5;241m.\u001b[39m_forward_hooks \u001b[38;5;129;01mor\u001b[39;00m \u001b[38;5;28mself\u001b[39m\u001b[38;5;241m.\u001b[39m_forward_pre_hooks\n\u001b[1;32m   1499\u001b[0m         \u001b[38;5;129;01mor\u001b[39;00m _global_backward_pre_hooks \u001b[38;5;129;01mor\u001b[39;00m _global_backward_hooks\n\u001b[1;32m   1500\u001b[0m         \u001b[38;5;129;01mor\u001b[39;00m _global_forward_hooks \u001b[38;5;129;01mor\u001b[39;00m _global_forward_pre_hooks):\n\u001b[0;32m-> 1501\u001b[0m     \u001b[38;5;28;01mreturn\u001b[39;00m \u001b[43mforward_call\u001b[49m\u001b[43m(\u001b[49m\u001b[38;5;241;43m*\u001b[39;49m\u001b[43margs\u001b[49m\u001b[43m,\u001b[49m\u001b[43m \u001b[49m\u001b[38;5;241;43m*\u001b[39;49m\u001b[38;5;241;43m*\u001b[39;49m\u001b[43mkwargs\u001b[49m\u001b[43m)\u001b[49m\n\u001b[1;32m   1502\u001b[0m \u001b[38;5;66;03m# Do not call functions when jit is used\u001b[39;00m\n\u001b[1;32m   1503\u001b[0m full_backward_hooks, non_full_backward_hooks \u001b[38;5;241m=\u001b[39m [], []\n",
      "File \u001b[0;32m~/opt/miniconda3/lib/python3.8/site-packages/transformers/models/clip/modeling_clip.py:862\u001b[0m, in \u001b[0;36mCLIPVisionTransformer.forward\u001b[0;34m(self, pixel_values, output_attentions, output_hidden_states, return_dict)\u001b[0m\n\u001b[1;32m    859\u001b[0m hidden_states \u001b[38;5;241m=\u001b[39m \u001b[38;5;28mself\u001b[39m\u001b[38;5;241m.\u001b[39membeddings(pixel_values)\n\u001b[1;32m    860\u001b[0m hidden_states \u001b[38;5;241m=\u001b[39m \u001b[38;5;28mself\u001b[39m\u001b[38;5;241m.\u001b[39mpre_layrnorm(hidden_states)\n\u001b[0;32m--> 862\u001b[0m encoder_outputs \u001b[38;5;241m=\u001b[39m \u001b[38;5;28;43mself\u001b[39;49m\u001b[38;5;241;43m.\u001b[39;49m\u001b[43mencoder\u001b[49m\u001b[43m(\u001b[49m\n\u001b[1;32m    863\u001b[0m \u001b[43m    \u001b[49m\u001b[43minputs_embeds\u001b[49m\u001b[38;5;241;43m=\u001b[39;49m\u001b[43mhidden_states\u001b[49m\u001b[43m,\u001b[49m\n\u001b[1;32m    864\u001b[0m \u001b[43m    \u001b[49m\u001b[43moutput_attentions\u001b[49m\u001b[38;5;241;43m=\u001b[39;49m\u001b[43moutput_attentions\u001b[49m\u001b[43m,\u001b[49m\n\u001b[1;32m    865\u001b[0m \u001b[43m    \u001b[49m\u001b[43moutput_hidden_states\u001b[49m\u001b[38;5;241;43m=\u001b[39;49m\u001b[43moutput_hidden_states\u001b[49m\u001b[43m,\u001b[49m\n\u001b[1;32m    866\u001b[0m \u001b[43m    \u001b[49m\u001b[43mreturn_dict\u001b[49m\u001b[38;5;241;43m=\u001b[39;49m\u001b[43mreturn_dict\u001b[49m\u001b[43m,\u001b[49m\n\u001b[1;32m    867\u001b[0m \u001b[43m\u001b[49m\u001b[43m)\u001b[49m\n\u001b[1;32m    869\u001b[0m last_hidden_state \u001b[38;5;241m=\u001b[39m encoder_outputs[\u001b[38;5;241m0\u001b[39m]\n\u001b[1;32m    870\u001b[0m pooled_output \u001b[38;5;241m=\u001b[39m last_hidden_state[:, \u001b[38;5;241m0\u001b[39m, :]\n",
      "File \u001b[0;32m~/opt/miniconda3/lib/python3.8/site-packages/torch/nn/modules/module.py:1501\u001b[0m, in \u001b[0;36mModule._call_impl\u001b[0;34m(self, *args, **kwargs)\u001b[0m\n\u001b[1;32m   1496\u001b[0m \u001b[38;5;66;03m# If we don't have any hooks, we want to skip the rest of the logic in\u001b[39;00m\n\u001b[1;32m   1497\u001b[0m \u001b[38;5;66;03m# this function, and just call forward.\u001b[39;00m\n\u001b[1;32m   1498\u001b[0m \u001b[38;5;28;01mif\u001b[39;00m \u001b[38;5;129;01mnot\u001b[39;00m (\u001b[38;5;28mself\u001b[39m\u001b[38;5;241m.\u001b[39m_backward_hooks \u001b[38;5;129;01mor\u001b[39;00m \u001b[38;5;28mself\u001b[39m\u001b[38;5;241m.\u001b[39m_backward_pre_hooks \u001b[38;5;129;01mor\u001b[39;00m \u001b[38;5;28mself\u001b[39m\u001b[38;5;241m.\u001b[39m_forward_hooks \u001b[38;5;129;01mor\u001b[39;00m \u001b[38;5;28mself\u001b[39m\u001b[38;5;241m.\u001b[39m_forward_pre_hooks\n\u001b[1;32m   1499\u001b[0m         \u001b[38;5;129;01mor\u001b[39;00m _global_backward_pre_hooks \u001b[38;5;129;01mor\u001b[39;00m _global_backward_hooks\n\u001b[1;32m   1500\u001b[0m         \u001b[38;5;129;01mor\u001b[39;00m _global_forward_hooks \u001b[38;5;129;01mor\u001b[39;00m _global_forward_pre_hooks):\n\u001b[0;32m-> 1501\u001b[0m     \u001b[38;5;28;01mreturn\u001b[39;00m \u001b[43mforward_call\u001b[49m\u001b[43m(\u001b[49m\u001b[38;5;241;43m*\u001b[39;49m\u001b[43margs\u001b[49m\u001b[43m,\u001b[49m\u001b[43m \u001b[49m\u001b[38;5;241;43m*\u001b[39;49m\u001b[38;5;241;43m*\u001b[39;49m\u001b[43mkwargs\u001b[49m\u001b[43m)\u001b[49m\n\u001b[1;32m   1502\u001b[0m \u001b[38;5;66;03m# Do not call functions when jit is used\u001b[39;00m\n\u001b[1;32m   1503\u001b[0m full_backward_hooks, non_full_backward_hooks \u001b[38;5;241m=\u001b[39m [], []\n",
      "File \u001b[0;32m~/opt/miniconda3/lib/python3.8/site-packages/transformers/models/clip/modeling_clip.py:654\u001b[0m, in \u001b[0;36mCLIPEncoder.forward\u001b[0;34m(self, inputs_embeds, attention_mask, causal_attention_mask, output_attentions, output_hidden_states, return_dict)\u001b[0m\n\u001b[1;32m    647\u001b[0m     layer_outputs \u001b[38;5;241m=\u001b[39m torch\u001b[38;5;241m.\u001b[39mutils\u001b[38;5;241m.\u001b[39mcheckpoint\u001b[38;5;241m.\u001b[39mcheckpoint(\n\u001b[1;32m    648\u001b[0m         create_custom_forward(encoder_layer),\n\u001b[1;32m    649\u001b[0m         hidden_states,\n\u001b[1;32m    650\u001b[0m         attention_mask,\n\u001b[1;32m    651\u001b[0m         causal_attention_mask,\n\u001b[1;32m    652\u001b[0m     )\n\u001b[1;32m    653\u001b[0m \u001b[38;5;28;01melse\u001b[39;00m:\n\u001b[0;32m--> 654\u001b[0m     layer_outputs \u001b[38;5;241m=\u001b[39m \u001b[43mencoder_layer\u001b[49m\u001b[43m(\u001b[49m\n\u001b[1;32m    655\u001b[0m \u001b[43m        \u001b[49m\u001b[43mhidden_states\u001b[49m\u001b[43m,\u001b[49m\n\u001b[1;32m    656\u001b[0m \u001b[43m        \u001b[49m\u001b[43mattention_mask\u001b[49m\u001b[43m,\u001b[49m\n\u001b[1;32m    657\u001b[0m \u001b[43m        \u001b[49m\u001b[43mcausal_attention_mask\u001b[49m\u001b[43m,\u001b[49m\n\u001b[1;32m    658\u001b[0m \u001b[43m        \u001b[49m\u001b[43moutput_attentions\u001b[49m\u001b[38;5;241;43m=\u001b[39;49m\u001b[43moutput_attentions\u001b[49m\u001b[43m,\u001b[49m\n\u001b[1;32m    659\u001b[0m \u001b[43m    \u001b[49m\u001b[43m)\u001b[49m\n\u001b[1;32m    661\u001b[0m hidden_states \u001b[38;5;241m=\u001b[39m layer_outputs[\u001b[38;5;241m0\u001b[39m]\n\u001b[1;32m    663\u001b[0m \u001b[38;5;28;01mif\u001b[39;00m output_attentions:\n",
      "File \u001b[0;32m~/opt/miniconda3/lib/python3.8/site-packages/torch/nn/modules/module.py:1501\u001b[0m, in \u001b[0;36mModule._call_impl\u001b[0;34m(self, *args, **kwargs)\u001b[0m\n\u001b[1;32m   1496\u001b[0m \u001b[38;5;66;03m# If we don't have any hooks, we want to skip the rest of the logic in\u001b[39;00m\n\u001b[1;32m   1497\u001b[0m \u001b[38;5;66;03m# this function, and just call forward.\u001b[39;00m\n\u001b[1;32m   1498\u001b[0m \u001b[38;5;28;01mif\u001b[39;00m \u001b[38;5;129;01mnot\u001b[39;00m (\u001b[38;5;28mself\u001b[39m\u001b[38;5;241m.\u001b[39m_backward_hooks \u001b[38;5;129;01mor\u001b[39;00m \u001b[38;5;28mself\u001b[39m\u001b[38;5;241m.\u001b[39m_backward_pre_hooks \u001b[38;5;129;01mor\u001b[39;00m \u001b[38;5;28mself\u001b[39m\u001b[38;5;241m.\u001b[39m_forward_hooks \u001b[38;5;129;01mor\u001b[39;00m \u001b[38;5;28mself\u001b[39m\u001b[38;5;241m.\u001b[39m_forward_pre_hooks\n\u001b[1;32m   1499\u001b[0m         \u001b[38;5;129;01mor\u001b[39;00m _global_backward_pre_hooks \u001b[38;5;129;01mor\u001b[39;00m _global_backward_hooks\n\u001b[1;32m   1500\u001b[0m         \u001b[38;5;129;01mor\u001b[39;00m _global_forward_hooks \u001b[38;5;129;01mor\u001b[39;00m _global_forward_pre_hooks):\n\u001b[0;32m-> 1501\u001b[0m     \u001b[38;5;28;01mreturn\u001b[39;00m \u001b[43mforward_call\u001b[49m\u001b[43m(\u001b[49m\u001b[38;5;241;43m*\u001b[39;49m\u001b[43margs\u001b[49m\u001b[43m,\u001b[49m\u001b[43m \u001b[49m\u001b[38;5;241;43m*\u001b[39;49m\u001b[38;5;241;43m*\u001b[39;49m\u001b[43mkwargs\u001b[49m\u001b[43m)\u001b[49m\n\u001b[1;32m   1502\u001b[0m \u001b[38;5;66;03m# Do not call functions when jit is used\u001b[39;00m\n\u001b[1;32m   1503\u001b[0m full_backward_hooks, non_full_backward_hooks \u001b[38;5;241m=\u001b[39m [], []\n",
      "File \u001b[0;32m~/opt/miniconda3/lib/python3.8/site-packages/transformers/models/clip/modeling_clip.py:383\u001b[0m, in \u001b[0;36mCLIPEncoderLayer.forward\u001b[0;34m(self, hidden_states, attention_mask, causal_attention_mask, output_attentions)\u001b[0m\n\u001b[1;32m    380\u001b[0m residual \u001b[38;5;241m=\u001b[39m hidden_states\n\u001b[1;32m    382\u001b[0m hidden_states \u001b[38;5;241m=\u001b[39m \u001b[38;5;28mself\u001b[39m\u001b[38;5;241m.\u001b[39mlayer_norm1(hidden_states)\n\u001b[0;32m--> 383\u001b[0m hidden_states, attn_weights \u001b[38;5;241m=\u001b[39m \u001b[38;5;28;43mself\u001b[39;49m\u001b[38;5;241;43m.\u001b[39;49m\u001b[43mself_attn\u001b[49m\u001b[43m(\u001b[49m\n\u001b[1;32m    384\u001b[0m \u001b[43m    \u001b[49m\u001b[43mhidden_states\u001b[49m\u001b[38;5;241;43m=\u001b[39;49m\u001b[43mhidden_states\u001b[49m\u001b[43m,\u001b[49m\n\u001b[1;32m    385\u001b[0m \u001b[43m    \u001b[49m\u001b[43mattention_mask\u001b[49m\u001b[38;5;241;43m=\u001b[39;49m\u001b[43mattention_mask\u001b[49m\u001b[43m,\u001b[49m\n\u001b[1;32m    386\u001b[0m \u001b[43m    \u001b[49m\u001b[43mcausal_attention_mask\u001b[49m\u001b[38;5;241;43m=\u001b[39;49m\u001b[43mcausal_attention_mask\u001b[49m\u001b[43m,\u001b[49m\n\u001b[1;32m    387\u001b[0m \u001b[43m    \u001b[49m\u001b[43moutput_attentions\u001b[49m\u001b[38;5;241;43m=\u001b[39;49m\u001b[43moutput_attentions\u001b[49m\u001b[43m,\u001b[49m\n\u001b[1;32m    388\u001b[0m \u001b[43m\u001b[49m\u001b[43m)\u001b[49m\n\u001b[1;32m    389\u001b[0m hidden_states \u001b[38;5;241m=\u001b[39m residual \u001b[38;5;241m+\u001b[39m hidden_states\n\u001b[1;32m    391\u001b[0m residual \u001b[38;5;241m=\u001b[39m hidden_states\n",
      "File \u001b[0;32m~/opt/miniconda3/lib/python3.8/site-packages/torch/nn/modules/module.py:1501\u001b[0m, in \u001b[0;36mModule._call_impl\u001b[0;34m(self, *args, **kwargs)\u001b[0m\n\u001b[1;32m   1496\u001b[0m \u001b[38;5;66;03m# If we don't have any hooks, we want to skip the rest of the logic in\u001b[39;00m\n\u001b[1;32m   1497\u001b[0m \u001b[38;5;66;03m# this function, and just call forward.\u001b[39;00m\n\u001b[1;32m   1498\u001b[0m \u001b[38;5;28;01mif\u001b[39;00m \u001b[38;5;129;01mnot\u001b[39;00m (\u001b[38;5;28mself\u001b[39m\u001b[38;5;241m.\u001b[39m_backward_hooks \u001b[38;5;129;01mor\u001b[39;00m \u001b[38;5;28mself\u001b[39m\u001b[38;5;241m.\u001b[39m_backward_pre_hooks \u001b[38;5;129;01mor\u001b[39;00m \u001b[38;5;28mself\u001b[39m\u001b[38;5;241m.\u001b[39m_forward_hooks \u001b[38;5;129;01mor\u001b[39;00m \u001b[38;5;28mself\u001b[39m\u001b[38;5;241m.\u001b[39m_forward_pre_hooks\n\u001b[1;32m   1499\u001b[0m         \u001b[38;5;129;01mor\u001b[39;00m _global_backward_pre_hooks \u001b[38;5;129;01mor\u001b[39;00m _global_backward_hooks\n\u001b[1;32m   1500\u001b[0m         \u001b[38;5;129;01mor\u001b[39;00m _global_forward_hooks \u001b[38;5;129;01mor\u001b[39;00m _global_forward_pre_hooks):\n\u001b[0;32m-> 1501\u001b[0m     \u001b[38;5;28;01mreturn\u001b[39;00m \u001b[43mforward_call\u001b[49m\u001b[43m(\u001b[49m\u001b[38;5;241;43m*\u001b[39;49m\u001b[43margs\u001b[49m\u001b[43m,\u001b[49m\u001b[43m \u001b[49m\u001b[38;5;241;43m*\u001b[39;49m\u001b[38;5;241;43m*\u001b[39;49m\u001b[43mkwargs\u001b[49m\u001b[43m)\u001b[49m\n\u001b[1;32m   1502\u001b[0m \u001b[38;5;66;03m# Do not call functions when jit is used\u001b[39;00m\n\u001b[1;32m   1503\u001b[0m full_backward_hooks, non_full_backward_hooks \u001b[38;5;241m=\u001b[39m [], []\n",
      "File \u001b[0;32m~/opt/miniconda3/lib/python3.8/site-packages/transformers/models/clip/modeling_clip.py:334\u001b[0m, in \u001b[0;36mCLIPAttention.forward\u001b[0;34m(self, hidden_states, attention_mask, causal_attention_mask, output_attentions)\u001b[0m\n\u001b[1;32m    331\u001b[0m attn_output \u001b[38;5;241m=\u001b[39m attn_output\u001b[38;5;241m.\u001b[39mtranspose(\u001b[38;5;241m1\u001b[39m, \u001b[38;5;241m2\u001b[39m)\n\u001b[1;32m    332\u001b[0m attn_output \u001b[38;5;241m=\u001b[39m attn_output\u001b[38;5;241m.\u001b[39mreshape(bsz, tgt_len, embed_dim)\n\u001b[0;32m--> 334\u001b[0m attn_output \u001b[38;5;241m=\u001b[39m \u001b[38;5;28;43mself\u001b[39;49m\u001b[38;5;241;43m.\u001b[39;49m\u001b[43mout_proj\u001b[49m\u001b[43m(\u001b[49m\u001b[43mattn_output\u001b[49m\u001b[43m)\u001b[49m\n\u001b[1;32m    336\u001b[0m \u001b[38;5;28;01mreturn\u001b[39;00m attn_output, attn_weights_reshaped\n",
      "File \u001b[0;32m~/opt/miniconda3/lib/python3.8/site-packages/torch/nn/modules/module.py:1501\u001b[0m, in \u001b[0;36mModule._call_impl\u001b[0;34m(self, *args, **kwargs)\u001b[0m\n\u001b[1;32m   1496\u001b[0m \u001b[38;5;66;03m# If we don't have any hooks, we want to skip the rest of the logic in\u001b[39;00m\n\u001b[1;32m   1497\u001b[0m \u001b[38;5;66;03m# this function, and just call forward.\u001b[39;00m\n\u001b[1;32m   1498\u001b[0m \u001b[38;5;28;01mif\u001b[39;00m \u001b[38;5;129;01mnot\u001b[39;00m (\u001b[38;5;28mself\u001b[39m\u001b[38;5;241m.\u001b[39m_backward_hooks \u001b[38;5;129;01mor\u001b[39;00m \u001b[38;5;28mself\u001b[39m\u001b[38;5;241m.\u001b[39m_backward_pre_hooks \u001b[38;5;129;01mor\u001b[39;00m \u001b[38;5;28mself\u001b[39m\u001b[38;5;241m.\u001b[39m_forward_hooks \u001b[38;5;129;01mor\u001b[39;00m \u001b[38;5;28mself\u001b[39m\u001b[38;5;241m.\u001b[39m_forward_pre_hooks\n\u001b[1;32m   1499\u001b[0m         \u001b[38;5;129;01mor\u001b[39;00m _global_backward_pre_hooks \u001b[38;5;129;01mor\u001b[39;00m _global_backward_hooks\n\u001b[1;32m   1500\u001b[0m         \u001b[38;5;129;01mor\u001b[39;00m _global_forward_hooks \u001b[38;5;129;01mor\u001b[39;00m _global_forward_pre_hooks):\n\u001b[0;32m-> 1501\u001b[0m     \u001b[38;5;28;01mreturn\u001b[39;00m \u001b[43mforward_call\u001b[49m\u001b[43m(\u001b[49m\u001b[38;5;241;43m*\u001b[39;49m\u001b[43margs\u001b[49m\u001b[43m,\u001b[49m\u001b[43m \u001b[49m\u001b[38;5;241;43m*\u001b[39;49m\u001b[38;5;241;43m*\u001b[39;49m\u001b[43mkwargs\u001b[49m\u001b[43m)\u001b[49m\n\u001b[1;32m   1502\u001b[0m \u001b[38;5;66;03m# Do not call functions when jit is used\u001b[39;00m\n\u001b[1;32m   1503\u001b[0m full_backward_hooks, non_full_backward_hooks \u001b[38;5;241m=\u001b[39m [], []\n",
      "File \u001b[0;32m~/opt/miniconda3/lib/python3.8/site-packages/torch/nn/modules/linear.py:114\u001b[0m, in \u001b[0;36mLinear.forward\u001b[0;34m(self, input)\u001b[0m\n\u001b[1;32m    113\u001b[0m \u001b[38;5;28;01mdef\u001b[39;00m \u001b[38;5;21mforward\u001b[39m(\u001b[38;5;28mself\u001b[39m, \u001b[38;5;28minput\u001b[39m: Tensor) \u001b[38;5;241m-\u001b[39m\u001b[38;5;241m>\u001b[39m Tensor:\n\u001b[0;32m--> 114\u001b[0m     \u001b[38;5;28;01mreturn\u001b[39;00m \u001b[43mF\u001b[49m\u001b[38;5;241;43m.\u001b[39;49m\u001b[43mlinear\u001b[49m\u001b[43m(\u001b[49m\u001b[38;5;28;43minput\u001b[39;49m\u001b[43m,\u001b[49m\u001b[43m \u001b[49m\u001b[38;5;28;43mself\u001b[39;49m\u001b[38;5;241;43m.\u001b[39;49m\u001b[43mweight\u001b[49m\u001b[43m,\u001b[49m\u001b[43m \u001b[49m\u001b[38;5;28;43mself\u001b[39;49m\u001b[38;5;241;43m.\u001b[39;49m\u001b[43mbias\u001b[49m\u001b[43m)\u001b[49m\n",
      "\u001b[0;31mKeyboardInterrupt\u001b[0m: "
     ]
    }
   ],
   "source": [
    "# cluster_pd = pd.read_pickle(\"./full_emd_score\" + str(curr_embd) + \".pkl\")   \n",
    "for idx in range(curr_embd + 1, 500): \n",
    "    print(\"current cluster: \" + str(idx))\n",
    "    curr_clus_img_list = cluster_pd_pickle[\"img_idx\"][idx]\n",
    "    print(len(curr_clus_img_list))\n",
    "    clus_rating_score = 0 #high is good\n",
    "    clus_artif_score = 0 #low is good \n",
    "    for curr_img_idx in curr_clus_img_list: \n",
    "        img_path = \"images/\" + image_dir[curr_img_idx]\n",
    "        clus_pred = predict(plt.imread(img_path))\n",
    "        clus_rating_score += int(clus_pred[0])\n",
    "        clus_artif_score += int(clus_pred[1])\n",
    "    cluster_pd_pickle.loc[idx,\"rating_score\"] = clus_rating_score / len(curr_clus_img_list)\n",
    "    cluster_pd_pickle.loc[idx,\"aest_score\"] = clus_artif_score / len(curr_clus_img_list)\n",
    "    cluster_pd_pickle.to_pickle(\"./full_emd_score\" + str(idx) + \".pkl\")\n",
    "    "
   ]
  },
  {
   "cell_type": "code",
   "execution_count": 29,
   "metadata": {},
   "outputs": [
    {
     "data": {
      "text/html": [
       "<div>\n",
       "<style scoped>\n",
       "    .dataframe tbody tr th:only-of-type {\n",
       "        vertical-align: middle;\n",
       "    }\n",
       "\n",
       "    .dataframe tbody tr th {\n",
       "        vertical-align: top;\n",
       "    }\n",
       "\n",
       "    .dataframe thead th {\n",
       "        text-align: right;\n",
       "    }\n",
       "</style>\n",
       "<table border=\"1\" class=\"dataframe\">\n",
       "  <thead>\n",
       "    <tr style=\"text-align: right;\">\n",
       "      <th></th>\n",
       "      <th>label</th>\n",
       "      <th>img_idx</th>\n",
       "      <th>center</th>\n",
       "      <th>rating_score</th>\n",
       "      <th>aest_score</th>\n",
       "    </tr>\n",
       "  </thead>\n",
       "  <tbody>\n",
       "    <tr>\n",
       "      <th>0</th>\n",
       "      <td>0</td>\n",
       "      <td>[1717, 4165, 5567, 6884, 8560, 8817, 9069, 124...</td>\n",
       "      <td>[-0.0069408416748046875, -0.001300811767578123...</td>\n",
       "      <td>4.083333</td>\n",
       "      <td>2.208333</td>\n",
       "    </tr>\n",
       "    <tr>\n",
       "      <th>1</th>\n",
       "      <td>1</td>\n",
       "      <td>[92, 432, 679, 2719, 5136, 6075, 6146, 6577, 7...</td>\n",
       "      <td>[-0.0007424965882912677, 0.012880912193885222,...</td>\n",
       "      <td>NaN</td>\n",
       "      <td>NaN</td>\n",
       "    </tr>\n",
       "    <tr>\n",
       "      <th>2</th>\n",
       "      <td>2</td>\n",
       "      <td>[109, 144, 478, 564, 585, 1908, 2095, 2264, 25...</td>\n",
       "      <td>[0.006140124413274948, -0.013523963189894152, ...</td>\n",
       "      <td>NaN</td>\n",
       "      <td>NaN</td>\n",
       "    </tr>\n",
       "    <tr>\n",
       "      <th>3</th>\n",
       "      <td>3</td>\n",
       "      <td>[162, 1659, 1920, 2168, 3978, 4128, 4674, 5261...</td>\n",
       "      <td>[0.001089027949741906, 0.002168655395507814, 0...</td>\n",
       "      <td>NaN</td>\n",
       "      <td>NaN</td>\n",
       "    </tr>\n",
       "    <tr>\n",
       "      <th>4</th>\n",
       "      <td>4</td>\n",
       "      <td>[21, 1127, 1260, 1986, 2041, 2993, 4338, 4720,...</td>\n",
       "      <td>[-0.016064270682956863, 0.007230122884114586, ...</td>\n",
       "      <td>NaN</td>\n",
       "      <td>NaN</td>\n",
       "    </tr>\n",
       "    <tr>\n",
       "      <th>...</th>\n",
       "      <td>...</td>\n",
       "      <td>...</td>\n",
       "      <td>...</td>\n",
       "      <td>...</td>\n",
       "      <td>...</td>\n",
       "    </tr>\n",
       "    <tr>\n",
       "      <th>495</th>\n",
       "      <td>495</td>\n",
       "      <td>[85, 342, 666, 673, 1063, 1256, 1466, 1616, 20...</td>\n",
       "      <td>[-0.0006895798903245208, -0.005415633702889466...</td>\n",
       "      <td>NaN</td>\n",
       "      <td>NaN</td>\n",
       "    </tr>\n",
       "    <tr>\n",
       "      <th>496</th>\n",
       "      <td>496</td>\n",
       "      <td>[618, 644, 2624, 2842, 3149, 3246, 3272, 3366,...</td>\n",
       "      <td>[0.007192054352202972, 0.006923328746448866, 0...</td>\n",
       "      <td>NaN</td>\n",
       "      <td>NaN</td>\n",
       "    </tr>\n",
       "    <tr>\n",
       "      <th>497</th>\n",
       "      <td>497</td>\n",
       "      <td>[413, 5600, 8727, 9223, 11153, 13220, 15624, 1...</td>\n",
       "      <td>[0.011936823527018223, 0.00568249821662903, 0....</td>\n",
       "      <td>NaN</td>\n",
       "      <td>NaN</td>\n",
       "    </tr>\n",
       "    <tr>\n",
       "      <th>498</th>\n",
       "      <td>498</td>\n",
       "      <td>[2118, 3268, 3347, 3870, 4220, 4274, 6303, 704...</td>\n",
       "      <td>[-0.0007574898856026789, -0.00705329739317602,...</td>\n",
       "      <td>NaN</td>\n",
       "      <td>NaN</td>\n",
       "    </tr>\n",
       "    <tr>\n",
       "      <th>499</th>\n",
       "      <td>499</td>\n",
       "      <td>[266, 351, 596, 946, 1593, 1943, 1949, 3321, 4...</td>\n",
       "      <td>[-0.0020805521214261966, 0.008404670877659575,...</td>\n",
       "      <td>NaN</td>\n",
       "      <td>NaN</td>\n",
       "    </tr>\n",
       "  </tbody>\n",
       "</table>\n",
       "<p>500 rows × 5 columns</p>\n",
       "</div>"
      ],
      "text/plain": [
       "     label                                            img_idx  \\\n",
       "0        0  [1717, 4165, 5567, 6884, 8560, 8817, 9069, 124...   \n",
       "1        1  [92, 432, 679, 2719, 5136, 6075, 6146, 6577, 7...   \n",
       "2        2  [109, 144, 478, 564, 585, 1908, 2095, 2264, 25...   \n",
       "3        3  [162, 1659, 1920, 2168, 3978, 4128, 4674, 5261...   \n",
       "4        4  [21, 1127, 1260, 1986, 2041, 2993, 4338, 4720,...   \n",
       "..     ...                                                ...   \n",
       "495    495  [85, 342, 666, 673, 1063, 1256, 1466, 1616, 20...   \n",
       "496    496  [618, 644, 2624, 2842, 3149, 3246, 3272, 3366,...   \n",
       "497    497  [413, 5600, 8727, 9223, 11153, 13220, 15624, 1...   \n",
       "498    498  [2118, 3268, 3347, 3870, 4220, 4274, 6303, 704...   \n",
       "499    499  [266, 351, 596, 946, 1593, 1943, 1949, 3321, 4...   \n",
       "\n",
       "                                                center rating_score aest_score  \n",
       "0    [-0.0069408416748046875, -0.001300811767578123...     4.083333   2.208333  \n",
       "1    [-0.0007424965882912677, 0.012880912193885222,...          NaN        NaN  \n",
       "2    [0.006140124413274948, -0.013523963189894152, ...          NaN        NaN  \n",
       "3    [0.001089027949741906, 0.002168655395507814, 0...          NaN        NaN  \n",
       "4    [-0.016064270682956863, 0.007230122884114586, ...          NaN        NaN  \n",
       "..                                                 ...          ...        ...  \n",
       "495  [-0.0006895798903245208, -0.005415633702889466...          NaN        NaN  \n",
       "496  [0.007192054352202972, 0.006923328746448866, 0...          NaN        NaN  \n",
       "497  [0.011936823527018223, 0.00568249821662903, 0....          NaN        NaN  \n",
       "498  [-0.0007574898856026789, -0.00705329739317602,...          NaN        NaN  \n",
       "499  [-0.0020805521214261966, 0.008404670877659575,...          NaN        NaN  \n",
       "\n",
       "[500 rows x 5 columns]"
      ]
     },
     "execution_count": 29,
     "metadata": {},
     "output_type": "execute_result"
    }
   ],
   "source": [
    "pd.read_pickle(\"./full_emd_score0.pkl\")   "
   ]
  },
  {
   "cell_type": "code",
   "execution_count": 21,
   "metadata": {},
   "outputs": [],
   "source": [
    "cluster_pd_pickle = pd.read_pickle(\"./full_emd_score\" + str(499) + \".pkl\")   "
   ]
  },
  {
   "cell_type": "code",
   "execution_count": 25,
   "metadata": {},
   "outputs": [],
   "source": [
    "import math\n",
    "from matplotlib import gridspec\n",
    "\n",
    "def subplot_cluster(cluster_pd, img_plt_idx):\n",
    "    img_idx_list = cluster_pd[\"img_idx\"][img_plt_idx]\n",
    "    N = len(img_idx_list)\n",
    "    cols = 3\n",
    "    rows = int(math.ceil(N / cols))\n",
    "\n",
    "    gs = gridspec.GridSpec(rows, cols)\n",
    "    fig = plt.figure()\n",
    "    fig.suptitle(\"cluster \" + str(img_plt_idx) + \" with rating of \" +  str(cluster_pd[\"rating_score\"][img_plt_idx]))\n",
    "    for n in range(N):\n",
    "        img_path = \"images/\" + image_dir[img_idx_list[n]]\n",
    "        ax = fig.add_subplot(gs[n])\n",
    "        ax.imshow(plt.imread(img_path))\n",
    "    fig.tight_layout()\n",
    "    "
   ]
  },
  {
   "cell_type": "code",
   "execution_count": 26,
   "metadata": {},
   "outputs": [
    {
     "name": "stderr",
     "output_type": "stream",
     "text": [
      "/var/folders/vw/smh4j2rd0nbd3nv6602hrfs40000gn/T/ipykernel_4900/1178926630.py:17: UserWarning: Tight layout not applied. tight_layout cannot make axes height small enough to accommodate all axes decorations.\n",
      "  fig.tight_layout()\n"
     ]
    },
    {
     "data": {
      "image/png": "[encoded data removed]",
      "text/plain": [
       "<Figure size 640x480 with 10 Axes>"
      ]
     },
     "metadata": {},
     "output_type": "display_data"
    }
   ],
   "source": [
    "subplot_cluster(cluster_pd_pickle, 499)"
   ]
  },
  {
   "cell_type": "code",
   "execution_count": 40,
   "metadata": {},
   "outputs": [
    {
     "data": {
      "text/html": [
       "<div>\n",
       "<style scoped>\n",
       "    .dataframe tbody tr th:only-of-type {\n",
       "        vertical-align: middle;\n",
       "    }\n",
       "\n",
       "    .dataframe tbody tr th {\n",
       "        vertical-align: top;\n",
       "    }\n",
       "\n",
       "    .dataframe thead th {\n",
       "        text-align: right;\n",
       "    }\n",
       "</style>\n",
       "<table border=\"1\" class=\"dataframe\">\n",
       "  <thead>\n",
       "    <tr style=\"text-align: right;\">\n",
       "      <th></th>\n",
       "      <th>label</th>\n",
       "      <th>img_idx</th>\n",
       "      <th>center</th>\n",
       "      <th>rating_score</th>\n",
       "      <th>aest_score</th>\n",
       "    </tr>\n",
       "  </thead>\n",
       "  <tbody>\n",
       "    <tr>\n",
       "      <th>0</th>\n",
       "      <td>0</td>\n",
       "      <td>[1717, 4165, 5567, 6884, 8560, 8817, 9069, 124...</td>\n",
       "      <td>[-0.0069408416748046875, -0.001300811767578123...</td>\n",
       "      <td>4.083333</td>\n",
       "      <td>2.208333</td>\n",
       "    </tr>\n",
       "    <tr>\n",
       "      <th>1</th>\n",
       "      <td>1</td>\n",
       "      <td>[92, 432, 679, 2719, 5136, 6075, 6146, 6577, 7...</td>\n",
       "      <td>[-0.0007424965882912677, 0.012880912193885222,...</td>\n",
       "      <td>3.987179</td>\n",
       "      <td>2.538462</td>\n",
       "    </tr>\n",
       "    <tr>\n",
       "      <th>2</th>\n",
       "      <td>2</td>\n",
       "      <td>[109, 144, 478, 564, 585, 1908, 2095, 2264, 25...</td>\n",
       "      <td>[0.006140124413274948, -0.013523963189894152, ...</td>\n",
       "      <td>3.693548</td>\n",
       "      <td>2.66129</td>\n",
       "    </tr>\n",
       "    <tr>\n",
       "      <th>3</th>\n",
       "      <td>3</td>\n",
       "      <td>[162, 1659, 1920, 2168, 3978, 4128, 4674, 5261...</td>\n",
       "      <td>[0.001089027949741906, 0.002168655395507814, 0...</td>\n",
       "      <td>4.0</td>\n",
       "      <td>2.428571</td>\n",
       "    </tr>\n",
       "    <tr>\n",
       "      <th>4</th>\n",
       "      <td>4</td>\n",
       "      <td>[21, 1127, 1260, 1986, 2041, 2993, 4338, 4720,...</td>\n",
       "      <td>[-0.016064270682956863, 0.007230122884114586, ...</td>\n",
       "      <td>4.0</td>\n",
       "      <td>2.376812</td>\n",
       "    </tr>\n",
       "    <tr>\n",
       "      <th>...</th>\n",
       "      <td>...</td>\n",
       "      <td>...</td>\n",
       "      <td>...</td>\n",
       "      <td>...</td>\n",
       "      <td>...</td>\n",
       "    </tr>\n",
       "    <tr>\n",
       "      <th>495</th>\n",
       "      <td>495</td>\n",
       "      <td>[85, 342, 666, 673, 1063, 1256, 1466, 1616, 20...</td>\n",
       "      <td>[-0.0006895798903245208, -0.005415633702889466...</td>\n",
       "      <td>4.012821</td>\n",
       "      <td>2.410256</td>\n",
       "    </tr>\n",
       "    <tr>\n",
       "      <th>496</th>\n",
       "      <td>496</td>\n",
       "      <td>[618, 644, 2624, 2842, 3149, 3246, 3272, 3366,...</td>\n",
       "      <td>[0.007192054352202972, 0.006923328746448866, 0...</td>\n",
       "      <td>3.87013</td>\n",
       "      <td>2.454545</td>\n",
       "    </tr>\n",
       "    <tr>\n",
       "      <th>497</th>\n",
       "      <td>497</td>\n",
       "      <td>[413, 5600, 8727, 9223, 11153, 13220, 15624, 1...</td>\n",
       "      <td>[0.011936823527018223, 0.00568249821662903, 0....</td>\n",
       "      <td>3.958333</td>\n",
       "      <td>2.291667</td>\n",
       "    </tr>\n",
       "    <tr>\n",
       "      <th>498</th>\n",
       "      <td>498</td>\n",
       "      <td>[2118, 3268, 3347, 3870, 4220, 4274, 6303, 704...</td>\n",
       "      <td>[-0.0007574898856026789, -0.00705329739317602,...</td>\n",
       "      <td>4.183673</td>\n",
       "      <td>2.285714</td>\n",
       "    </tr>\n",
       "    <tr>\n",
       "      <th>499</th>\n",
       "      <td>499</td>\n",
       "      <td>[266, 351, 596, 946, 1593, 1943, 1949, 3321, 4...</td>\n",
       "      <td>[-0.0020805521214261966, 0.008404670877659575,...</td>\n",
       "      <td>3.957447</td>\n",
       "      <td>2.404255</td>\n",
       "    </tr>\n",
       "  </tbody>\n",
       "</table>\n",
       "<p>500 rows × 5 columns</p>\n",
       "</div>"
      ],
      "text/plain": [
       "     label                                            img_idx  \\\n",
       "0        0  [1717, 4165, 5567, 6884, 8560, 8817, 9069, 124...   \n",
       "1        1  [92, 432, 679, 2719, 5136, 6075, 6146, 6577, 7...   \n",
       "2        2  [109, 144, 478, 564, 585, 1908, 2095, 2264, 25...   \n",
       "3        3  [162, 1659, 1920, 2168, 3978, 4128, 4674, 5261...   \n",
       "4        4  [21, 1127, 1260, 1986, 2041, 2993, 4338, 4720,...   \n",
       "..     ...                                                ...   \n",
       "495    495  [85, 342, 666, 673, 1063, 1256, 1466, 1616, 20...   \n",
       "496    496  [618, 644, 2624, 2842, 3149, 3246, 3272, 3366,...   \n",
       "497    497  [413, 5600, 8727, 9223, 11153, 13220, 15624, 1...   \n",
       "498    498  [2118, 3268, 3347, 3870, 4220, 4274, 6303, 704...   \n",
       "499    499  [266, 351, 596, 946, 1593, 1943, 1949, 3321, 4...   \n",
       "\n",
       "                                                center rating_score aest_score  \n",
       "0    [-0.0069408416748046875, -0.001300811767578123...     4.083333   2.208333  \n",
       "1    [-0.0007424965882912677, 0.012880912193885222,...     3.987179   2.538462  \n",
       "2    [0.006140124413274948, -0.013523963189894152, ...     3.693548    2.66129  \n",
       "3    [0.001089027949741906, 0.002168655395507814, 0...          4.0   2.428571  \n",
       "4    [-0.016064270682956863, 0.007230122884114586, ...          4.0   2.376812  \n",
       "..                                                 ...          ...        ...  \n",
       "495  [-0.0006895798903245208, -0.005415633702889466...     4.012821   2.410256  \n",
       "496  [0.007192054352202972, 0.006923328746448866, 0...      3.87013   2.454545  \n",
       "497  [0.011936823527018223, 0.00568249821662903, 0....     3.958333   2.291667  \n",
       "498  [-0.0007574898856026789, -0.00705329739317602,...     4.183673   2.285714  \n",
       "499  [-0.0020805521214261966, 0.008404670877659575,...     3.957447   2.404255  \n",
       "\n",
       "[500 rows x 5 columns]"
      ]
     },
     "execution_count": 40,
     "metadata": {},
     "output_type": "execute_result"
    }
   ],
   "source": [
    "cluster_pd_pickle"
   ]
  },
  {
   "cell_type": "code",
   "execution_count": 53,
   "metadata": {},
   "outputs": [
    {
     "data": {
      "text/plain": [
       "Text(0, 0.5, 'count of clusters')"
      ]
     },
     "execution_count": 53,
     "metadata": {},
     "output_type": "execute_result"
    },
    {
     "data": {
      "image/png": "[encoded data removed]",
      "text/plain": [
       "<Figure size 640x480 with 1 Axes>"
      ]
     },
     "metadata": {},
     "output_type": "display_data"
    }
   ],
   "source": [
    "plt.subplot(1,1,1)\n",
    "rating_hist = cluster_pd_pickle[\"rating_score\"].hist(bins = 10)\n",
    "plt.title(\"predicted rating score histogram\")\n",
    "plt.xlabel(\"rating score\")\n",
    "plt.ylabel(\"count of clusters\")\n"
   ]
  },
  {
   "cell_type": "code",
   "execution_count": 52,
   "metadata": {},
   "outputs": [
    {
     "data": {
      "text/plain": [
       "Text(0.5, 1.0, 'predicted aesthetic score histogram')"
      ]
     },
     "execution_count": 52,
     "metadata": {},
     "output_type": "execute_result"
    },
    {
     "data": {
      "image/png": "[encoded data removed]",
      "text/plain": [
       "<Figure size 640x480 with 1 Axes>"
      ]
     },
     "metadata": {},
     "output_type": "display_data"
    }
   ],
   "source": [
    "plt.subplot(1,1,1)\n",
    "aest_hist = cluster_pd_pickle[\"aest_score\"].hist(bins = 10, color='#86bf91')\n",
    "plt.xlabel(\"aesthetic score\")\n",
    "plt.ylabel(\"count of clusters\")\n",
    "plt.title(\"predicted aesthetic score histogram\")"
   ]
  },
  {
   "cell_type": "code",
   "execution_count": null,
   "metadata": {},
   "outputs": [],
   "source": []
  }
 ],
 "metadata": {
  "kernelspec": {
   "display_name": "Python 3 (ipykernel)",
   "language": "python",
   "name": "python3"
  },
  "language_info": {
   "codemirror_mode": {
    "name": "ipython",
    "version": 3
   },
   "file_extension": ".py",
   "mimetype": "text/x-python",
   "name": "python",
   "nbconvert_exporter": "python",
   "pygments_lexer": "ipython3",
   "version": "3.8.13"
  },
  "vscode": {
   "interpreter": {
    "hash": "0238c7ab77f5f14607e9e626cf516278970912a05db667e7e99b70e2ee944580"
   }
  }
 },
 "nbformat": 4,
 "nbformat_minor": 2
}
